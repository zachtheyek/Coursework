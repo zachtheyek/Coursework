{
  "nbformat": 4,
  "nbformat_minor": 2,
  "metadata": {
    "colab": {
      "name": "HW4.ipynb",
      "provenance": [],
      "collapsed_sections": []
    },
    "kernelspec": {
      "name": "python3",
      "display_name": "Python 3.8.11 64-bit ('base': conda)"
    },
    "language_info": {
      "name": "python",
      "version": "3.8.11",
      "mimetype": "text/x-python",
      "codemirror_mode": {
        "name": "ipython",
        "version": 3
      },
      "pygments_lexer": "ipython3",
      "nbconvert_exporter": "python",
      "file_extension": ".py"
    },
    "interpreter": {
      "hash": "dca0ade3e726a953b501b15e8e990130d2b7799f14cfd9f4271676035ebe5511"
    }
  },
  "cells": [
    {
      "cell_type": "code",
      "execution_count": 1,
      "source": [
        "%matplotlib inline"
      ],
      "outputs": [],
      "metadata": {
        "id": "itnwpjDS7Fvx"
      }
    },
    {
      "cell_type": "markdown",
      "source": [
        "# Import Dependencies"
      ],
      "metadata": {
        "id": "cU8X_Wdd-Oze"
      }
    },
    {
      "cell_type": "code",
      "execution_count": 2,
      "source": [
        "# Data analysis\n",
        "import numpy as np\n",
        "import pandas as pd\n",
        "\n",
        "# Data visualization\n",
        "import matplotlib\n",
        "import matplotlib.pyplot as plt\n",
        "\n",
        "# ML tools\n",
        "from sklearn.model_selection import train_test_split\n",
        "from sklearn.linear_model import LogisticRegression"
      ],
      "outputs": [],
      "metadata": {
        "id": "b-KaZv827_E_"
      }
    },
    {
      "cell_type": "code",
      "execution_count": 3,
      "source": [
        "plt.rcParams['figure.figsize'] = (7.0, 5.0)"
      ],
      "outputs": [],
      "metadata": {
        "id": "LNzEBJTG8AK8"
      }
    },
    {
      "cell_type": "markdown",
      "source": [
        "# Data Handling"
      ],
      "metadata": {
        "id": "wSRwhlID-Q39"
      }
    },
    {
      "cell_type": "code",
      "execution_count": 4,
      "source": [
        "df = pd.read_csv('data.csv', usecols=['x1', 'y'])\n",
        "df"
      ],
      "outputs": [
        {
          "output_type": "execute_result",
          "data": {
            "text/html": [
              "<div>\n",
              "<style scoped>\n",
              "    .dataframe tbody tr th:only-of-type {\n",
              "        vertical-align: middle;\n",
              "    }\n",
              "\n",
              "    .dataframe tbody tr th {\n",
              "        vertical-align: top;\n",
              "    }\n",
              "\n",
              "    .dataframe thead th {\n",
              "        text-align: right;\n",
              "    }\n",
              "</style>\n",
              "<table border=\"1\" class=\"dataframe\">\n",
              "  <thead>\n",
              "    <tr style=\"text-align: right;\">\n",
              "      <th></th>\n",
              "      <th>x1</th>\n",
              "      <th>y</th>\n",
              "    </tr>\n",
              "  </thead>\n",
              "  <tbody>\n",
              "    <tr>\n",
              "      <th>0</th>\n",
              "      <td>3.626162</td>\n",
              "      <td>0</td>\n",
              "    </tr>\n",
              "    <tr>\n",
              "      <th>1</th>\n",
              "      <td>6.223233</td>\n",
              "      <td>0</td>\n",
              "    </tr>\n",
              "    <tr>\n",
              "      <th>2</th>\n",
              "      <td>9.774829</td>\n",
              "      <td>0</td>\n",
              "    </tr>\n",
              "    <tr>\n",
              "      <th>3</th>\n",
              "      <td>10.279982</td>\n",
              "      <td>0</td>\n",
              "    </tr>\n",
              "    <tr>\n",
              "      <th>4</th>\n",
              "      <td>8.357902</td>\n",
              "      <td>0</td>\n",
              "    </tr>\n",
              "    <tr>\n",
              "      <th>...</th>\n",
              "      <td>...</td>\n",
              "      <td>...</td>\n",
              "    </tr>\n",
              "    <tr>\n",
              "      <th>95</th>\n",
              "      <td>12.399854</td>\n",
              "      <td>1</td>\n",
              "    </tr>\n",
              "    <tr>\n",
              "      <th>96</th>\n",
              "      <td>11.239202</td>\n",
              "      <td>1</td>\n",
              "    </tr>\n",
              "    <tr>\n",
              "      <th>97</th>\n",
              "      <td>13.450411</td>\n",
              "      <td>1</td>\n",
              "    </tr>\n",
              "    <tr>\n",
              "      <th>98</th>\n",
              "      <td>12.416672</td>\n",
              "      <td>1</td>\n",
              "    </tr>\n",
              "    <tr>\n",
              "      <th>99</th>\n",
              "      <td>18.924933</td>\n",
              "      <td>1</td>\n",
              "    </tr>\n",
              "  </tbody>\n",
              "</table>\n",
              "<p>100 rows × 2 columns</p>\n",
              "</div>"
            ],
            "text/plain": [
              "           x1  y\n",
              "0    3.626162  0\n",
              "1    6.223233  0\n",
              "2    9.774829  0\n",
              "3   10.279982  0\n",
              "4    8.357902  0\n",
              "..        ... ..\n",
              "95  12.399854  1\n",
              "96  11.239202  1\n",
              "97  13.450411  1\n",
              "98  12.416672  1\n",
              "99  18.924933  1\n",
              "\n",
              "[100 rows x 2 columns]"
            ]
          },
          "metadata": {},
          "execution_count": 4
        }
      ],
      "metadata": {
        "colab": {
          "base_uri": "https://localhost:8080/",
          "height": 419
        },
        "id": "hhhuhPMy8C7h",
        "outputId": "5f7598b7-5ba5-4c16-8aec-4d1e8f240ae7"
      }
    },
    {
      "cell_type": "code",
      "execution_count": 5,
      "source": [
        "plt.scatter(df.x1, df.y, c='r')\n",
        "plt.title('x1 vs y')\n",
        "plt.xlabel('x1')\n",
        "plt.ylabel('y')\n",
        "plt.show()"
      ],
      "outputs": [
        {
          "output_type": "display_data",
          "data": {
            "image/png": "[encoded data removed]",
            "text/plain": [
              "<Figure size 504x360 with 1 Axes>"
            ]
          },
          "metadata": {
            "needs_background": "light"
          }
        }
      ],
      "metadata": {
        "colab": {
          "base_uri": "https://localhost:8080/",
          "height": 350
        },
        "id": "4nyE7hD78FZ5",
        "outputId": "b1909dce-d2c0-4e8f-885f-42c3c26f7ccc"
      }
    },
    {
      "cell_type": "code",
      "execution_count": 6,
      "source": [
        "X_train, X_test, y_train, y_test = train_test_split(df[['x1']], df.y, test_size=0.25)"
      ],
      "outputs": [],
      "metadata": {
        "id": "HMxTdenu8GvR"
      }
    },
    {
      "cell_type": "markdown",
      "source": [
        "# Build Model & Evaluate Performance"
      ],
      "metadata": {
        "id": "PndH7TG4-qc2"
      }
    },
    {
      "cell_type": "code",
      "execution_count": 7,
      "source": [
        "model = LogisticRegression()\n",
        "model.fit(X_train, y_train)\n",
        "model.predict(X_test)\n",
        "model.score(X_test, y_test)"
      ],
      "outputs": [
        {
          "output_type": "execute_result",
          "data": {
            "text/plain": [
              "0.84"
            ]
          },
          "metadata": {},
          "execution_count": 7
        }
      ],
      "metadata": {
        "colab": {
          "base_uri": "https://localhost:8080/"
        },
        "id": "Pt7aYfyW8IV0",
        "outputId": "56229ed8-6c85-445f-e5d1-88d13f8156ab"
      }
    },
    {
      "cell_type": "code",
      "execution_count": 8,
      "source": [
        "theta_0 = model.intercept_\n",
        "theta_1 = model.coef_[0]\n",
        "print(theta_0, theta_1)"
      ],
      "outputs": [
        {
          "output_type": "stream",
          "name": "stdout",
          "text": [
            "[-10.73353625] [1.08514025]\n"
          ]
        }
      ],
      "metadata": {
        "colab": {
          "base_uri": "https://localhost:8080/"
        },
        "id": "PAr72aE28JjH",
        "outputId": "ea12634a-754a-477c-d1ca-8c347bff808b"
      }
    },
    {
      "cell_type": "code",
      "execution_count": 9,
      "source": [
        "x = np.linspace(0, 20)\n",
        "y = 1 / (1 + np.exp(-(theta_1 * x + theta_0)))\n",
        "\n",
        "plt.scatter(df.x1, df.y, c='r')\n",
        "plt.title('x1 vs y')\n",
        "plt.xlabel('x1')\n",
        "plt.ylabel('y')\n",
        "plt.plot(x, y)\n",
        "plt.legend(['Sigmoid'])\n",
        "plt.show()"
      ],
      "outputs": [
        {
          "output_type": "display_data",
          "data": {
            "image/png": "[encoded data removed]",
            "text/plain": [
              "<Figure size 504x360 with 1 Axes>"
            ]
          },
          "metadata": {
            "needs_background": "light"
          }
        }
      ],
      "metadata": {
        "colab": {
          "base_uri": "https://localhost:8080/",
          "height": 350
        },
        "id": "ilE6Vn0g8MQn",
        "outputId": "5e5d26e5-2767-4273-bc6f-ff36ee5a6604"
      }
    }
  ]
}