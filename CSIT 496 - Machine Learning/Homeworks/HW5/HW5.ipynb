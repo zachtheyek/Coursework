{
  "nbformat": 4,
  "nbformat_minor": 0,
  "metadata": {
    "colab": {
      "name": "HW5.ipynb",
      "private_outputs": true,
      "provenance": [],
      "collapsed_sections": []
    },
    "kernelspec": {
      "name": "python3",
      "display_name": "Python 3"
    },
    "language_info": {
      "name": "python"
    }
  },
  "cells": [
    {
      "cell_type": "code",
      "metadata": {
        "id": "mYl_0RNoAzb3"
      },
      "source": [
        "%matplotlib inline"
      ],
      "execution_count": null,
      "outputs": []
    },
    {
      "cell_type": "markdown",
      "metadata": {
        "id": "ab-OPZ5N3TF6"
      },
      "source": [
        "# Import Dependencies"
      ]
    },
    {
      "cell_type": "code",
      "metadata": {
        "id": "UhO_41UgA-IX"
      },
      "source": [
        "import numpy as np\n",
        "import pandas as pd\n",
        "import matplotlib\n",
        "import matplotlib.pyplot as plt\n",
        "from google.colab import drive\n",
        "from sklearn.model_selection import train_test_split\n",
        "from sklearn.linear_model import LogisticRegression"
      ],
      "execution_count": null,
      "outputs": []
    },
    {
      "cell_type": "code",
      "metadata": {
        "id": "vRqaG4z7A_cn"
      },
      "source": [
        "plt.rcParams['figure.figsize'] = (7.0, 5.0)"
      ],
      "execution_count": null,
      "outputs": []
    },
    {
      "cell_type": "markdown",
      "metadata": {
        "id": "dLvwqbjr3WAD"
      },
      "source": [
        "# Data Handling"
      ]
    },
    {
      "cell_type": "code",
      "metadata": {
        "id": "B1jNnCthBDaR"
      },
      "source": [
        "df = pd.read_csv('data.csv', usecols=['x1', 'x2', 'y'])\n",
        "df"
      ],
      "execution_count": null,
      "outputs": []
    },
    {
      "cell_type": "code",
      "metadata": {
        "id": "J8qYEFmjBE8G"
      },
      "source": [
        "plt.scatter(df.x1, df.y, c='r')\n",
        "plt.title('x1 vs y')\n",
        "plt.xlabel('x1')\n",
        "plt.ylabel('y')\n",
        "plt.show()\n",
        "\n",
        "plt.scatter(df.x2, df.y, c='b')\n",
        "plt.title('x2 vs y')\n",
        "plt.xlabel('x2')\n",
        "plt.ylabel('y')\n",
        "plt.show()"
      ],
      "execution_count": null,
      "outputs": []
    },
    {
      "cell_type": "code",
      "metadata": {
        "id": "mJlq7zWEBGjh"
      },
      "source": [
        "plt.scatter(df.x1, df.x2, c=df.y, cmap=matplotlib.colors.ListedColormap(['red', 'blue']))\n",
        "plt.title('x1 vs x2')\n",
        "plt.xlabel('x1')\n",
        "plt.ylabel('x2')\n",
        "plt.show()"
      ],
      "execution_count": null,
      "outputs": []
    },
    {
      "cell_type": "code",
      "metadata": {
        "id": "EuRpkLdABHOm"
      },
      "source": [
        "X_train, X_test, y_train, y_test = train_test_split(df[['x1', 'x2']], df.y, test_size=0.25)"
      ],
      "execution_count": null,
      "outputs": []
    },
    {
      "cell_type": "markdown",
      "metadata": {
        "id": "bBB-Hgug3Y2P"
      },
      "source": [
        "# Gradient Descent\n",
        "\n",
        "We compute the goodness of a logistic regression fit using Maximum Likelihood Estimation (MLE).\n",
        "\n",
        "$$\\begin{equation*}\n",
        "  -\\frac{1}{n}\\sum_{i=1}^n (y_i\\ln(\\hat{y}_i) + (1-y_i)\\ln(1-\\hat{y}_i))\n",
        "\\end{equation*}$$\n",
        "\n",
        "where recall that\n",
        "\n",
        "$$\\begin{equation*}\n",
        "  y = \\frac{1}{1+e^{-(\\theta_0+\\theta_1x)}}\n",
        "\\end{equation*}$$"
      ]
    },
    {
      "cell_type": "code",
      "metadata": {
        "id": "nrQtN6Y80wRO"
      },
      "source": [
        "def sigmoid(x, theta_0, theta_1):\n",
        "  return 1 / (1 + np.exp(-(theta_0 + theta_1 * x)))"
      ],
      "execution_count": null,
      "outputs": []
    },
    {
      "cell_type": "code",
      "metadata": {
        "id": "t-5nabN50x03"
      },
      "source": [
        "def loss(labels: pd.Series, \n",
        "         predictions: pd.Series) -> float:\n",
        "         sum = (labels * np.log(predictions) + (1 - labels) * np.log(1 - predictions)).sum()\n",
        "         return (-sum / len(labels))"
      ],
      "execution_count": null,
      "outputs": []
    },
    {
      "cell_type": "code",
      "metadata": {
        "id": "HvUsuMSnBI1F"
      },
      "source": [
        "def train(X: pd.Series,\n",
        "          labels: pd.Series,\n",
        "          learning_rate: float):\n",
        "  # Initialize variables\n",
        "  n, m, c, tmp, epoch = float(len(X)), 0, 0, 0, 1\n",
        "  # Start training loop\n",
        "  while True:\n",
        "    # Make predictions\n",
        "    predictions = sigmoid(X, m, c)\n",
        "    # Calculate loss\n",
        "    error = loss(labels, predictions)\n",
        "    # Print training info\n",
        "    print(f'Error at epoch {epoch}: {loss}')\n",
        "    # Partial derivative w.r.t. m\n",
        "    D_m = (1 / n) * (X * (labels - predictions)).sum()\n",
        "    # Partial derivative w.r.t. c\n",
        "    D_c = (1 / n) * (labels - predictions).sum()\n",
        "    # Update variables\n",
        "    m -= learning_rate * D_m  \n",
        "    c -= learning_rate * D_c \n",
        "    epoch += 1\n",
        "    # Compute loss improvement, and break if converged\n",
        "    if tmp != 0:\n",
        "      ratio = error/tmp\n",
        "      if ratio > 0.9999:\n",
        "        return m, c\n",
        "    tmp = error"
      ],
      "execution_count": null,
      "outputs": []
    },
    {
      "cell_type": "markdown",
      "metadata": {
        "id": "fdf1-zfo3os1"
      },
      "source": [
        "# Hyperparameters"
      ]
    },
    {
      "cell_type": "code",
      "metadata": {
        "id": "r6eQS4fu1pSm"
      },
      "source": [
        "lr = 1e-4"
      ],
      "execution_count": null,
      "outputs": []
    },
    {
      "cell_type": "markdown",
      "metadata": {
        "id": "rqvqrOCd3qsP"
      },
      "source": [
        "# Train & Evaluate\n",
        "\n",
        "First, we find the best-fit logistic regression using scikit-learn."
      ]
    },
    {
      "cell_type": "code",
      "metadata": {
        "id": "gSI0UHfoBQ1F"
      },
      "source": [
        "model = LogisticRegression()\n",
        "model.fit(X_train, y_train)\n",
        "model.predict(X_test)\n",
        "model.score(X_test, y_test)"
      ],
      "execution_count": null,
      "outputs": []
    },
    {
      "cell_type": "code",
      "metadata": {
        "id": "HCnbD-X-BTQf"
      },
      "source": [
        "print(model.coef_, model.intercept_)"
      ],
      "execution_count": null,
      "outputs": []
    },
    {
      "cell_type": "code",
      "metadata": {
        "id": "q0Z0QOE24XFq"
      },
      "source": [
        "theta_0 = model.intercept_\n",
        "theta_1 = model.coef_.T[0]\n",
        "theta_2 = model.coef_.T[1]\n",
        "\n",
        "exp_pred = (theta_1 * x1 + theta_0) / (-theta_2)"
      ],
      "execution_count": null,
      "outputs": []
    },
    {
      "cell_type": "markdown",
      "metadata": {
        "id": "X7mywJIx4mWU"
      },
      "source": [
        "Then, we do the same using our Gradient Descent method."
      ]
    },
    {
      "cell_type": "code",
      "metadata": {
        "id": "l6jyKLBF1cMA"
      },
      "source": [
        "m, c = train(X_train, y_train, lr)"
      ],
      "execution_count": null,
      "outputs": []
    },
    {
      "cell_type": "code",
      "metadata": {
        "id": "rePTSole2WGZ"
      },
      "source": [
        "my_pred = sigmoid(X_test, c, m)"
      ],
      "execution_count": null,
      "outputs": []
    },
    {
      "cell_type": "markdown",
      "metadata": {
        "id": "WJZk5Egi4uJW"
      },
      "source": [
        "Compare the two via visual inspection."
      ]
    },
    {
      "cell_type": "code",
      "metadata": {
        "id": "U_6Lrb-4BW18"
      },
      "source": [
        "x = [0, 20]\n",
        "\n",
        "plt.scatter(df.x1, df.x2, c=df.y, cmap=matplotlib.colors.ListedColormap(['red', 'blue']))\n",
        "plt.title('x1 vs x2')\n",
        "plt.xlabel('x1')\n",
        "plt.ylabel('x2')\n",
        "plt.plot(x, my_pred, c='k')\n",
        "plt.plot(x, exp_pred, c='g')\n",
        "plt.legend(['Computed', 'Expected'])\n",
        "plt.show()"
      ],
      "execution_count": null,
      "outputs": []
    }
  ]
}