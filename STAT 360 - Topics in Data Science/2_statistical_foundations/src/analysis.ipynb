{
 "cells": [
  {
   "attachments": {},
   "cell_type": "markdown",
   "metadata": {},
   "source": [
    "# Import Dependencies\n",
    "\n",
    "We begin by importing the necessary libraries."
   ]
  },
  {
   "cell_type": "code",
   "execution_count": 1,
   "metadata": {},
   "outputs": [],
   "source": [
    "# Data analysis\n",
    "import numpy as np\n",
    "import pandas as pd\n",
    "pd.options.display.max_columns = 100\n",
    "from scipy.stats import bootstrap\n",
    "\n",
    "# Data visualization\n",
    "import matplotlib.pyplot as plt\n",
    "import seaborn as sns\n",
    "sns.set()"
   ]
  },
  {
   "attachments": {},
   "cell_type": "markdown",
   "metadata": {},
   "source": [
    "# Analysis\n",
    "\n",
    "We proceed with our analyses by reading in the Gestation dataframe from the R mosaicData package. Note that a separate R script was used to export the dataframe into a csv file."
   ]
  },
  {
   "cell_type": "code",
   "execution_count": 3,
   "metadata": {},
   "outputs": [
    {
     "data": {
      "text/html": [
       "<div>\n",
       "<style scoped>\n",
       "    .dataframe tbody tr th:only-of-type {\n",
       "        vertical-align: middle;\n",
       "    }\n",
       "\n",
       "    .dataframe tbody tr th {\n",
       "        vertical-align: top;\n",
       "    }\n",
       "\n",
       "    .dataframe thead th {\n",
       "        text-align: right;\n",
       "    }\n",
       "</style>\n",
       "<table border=\"1\" class=\"dataframe\">\n",
       "  <thead>\n",
       "    <tr style=\"text-align: right;\">\n",
       "      <th></th>\n",
       "      <th>id</th>\n",
       "      <th>pluralty</th>\n",
       "      <th>outcome</th>\n",
       "      <th>date</th>\n",
       "      <th>gestation</th>\n",
       "      <th>sex</th>\n",
       "      <th>wt</th>\n",
       "      <th>parity</th>\n",
       "      <th>race</th>\n",
       "      <th>age</th>\n",
       "      <th>ed</th>\n",
       "      <th>ht</th>\n",
       "      <th>wt.1</th>\n",
       "      <th>drace</th>\n",
       "      <th>dage</th>\n",
       "      <th>ded</th>\n",
       "      <th>dht</th>\n",
       "      <th>dwt</th>\n",
       "      <th>marital</th>\n",
       "      <th>inc</th>\n",
       "      <th>smoke</th>\n",
       "      <th>time</th>\n",
       "      <th>number</th>\n",
       "    </tr>\n",
       "  </thead>\n",
       "  <tbody>\n",
       "    <tr>\n",
       "      <th>0</th>\n",
       "      <td>15</td>\n",
       "      <td>single fetus</td>\n",
       "      <td>live birth</td>\n",
       "      <td>1964-11-11</td>\n",
       "      <td>284.0</td>\n",
       "      <td>male</td>\n",
       "      <td>120</td>\n",
       "      <td>1</td>\n",
       "      <td>asian</td>\n",
       "      <td>27.0</td>\n",
       "      <td>College graduate</td>\n",
       "      <td>62.0</td>\n",
       "      <td>100.0</td>\n",
       "      <td>asian</td>\n",
       "      <td>31.0</td>\n",
       "      <td>College graduate</td>\n",
       "      <td>65.0</td>\n",
       "      <td>110.0</td>\n",
       "      <td>married</td>\n",
       "      <td>2500-5000</td>\n",
       "      <td>never</td>\n",
       "      <td>never smoked</td>\n",
       "      <td>never</td>\n",
       "    </tr>\n",
       "    <tr>\n",
       "      <th>1</th>\n",
       "      <td>20</td>\n",
       "      <td>single fetus</td>\n",
       "      <td>live birth</td>\n",
       "      <td>1965-02-07</td>\n",
       "      <td>282.0</td>\n",
       "      <td>male</td>\n",
       "      <td>113</td>\n",
       "      <td>2</td>\n",
       "      <td>white</td>\n",
       "      <td>33.0</td>\n",
       "      <td>College graduate</td>\n",
       "      <td>64.0</td>\n",
       "      <td>135.0</td>\n",
       "      <td>white</td>\n",
       "      <td>38.0</td>\n",
       "      <td>College graduate</td>\n",
       "      <td>70.0</td>\n",
       "      <td>148.0</td>\n",
       "      <td>married</td>\n",
       "      <td>10000-12500</td>\n",
       "      <td>never</td>\n",
       "      <td>never smoked</td>\n",
       "      <td>never</td>\n",
       "    </tr>\n",
       "    <tr>\n",
       "      <th>2</th>\n",
       "      <td>58</td>\n",
       "      <td>single fetus</td>\n",
       "      <td>live birth</td>\n",
       "      <td>1965-04-25</td>\n",
       "      <td>279.0</td>\n",
       "      <td>male</td>\n",
       "      <td>128</td>\n",
       "      <td>1</td>\n",
       "      <td>white</td>\n",
       "      <td>28.0</td>\n",
       "      <td>HS graduate--no other schooling</td>\n",
       "      <td>64.0</td>\n",
       "      <td>115.0</td>\n",
       "      <td>white</td>\n",
       "      <td>32.0</td>\n",
       "      <td>8th -12th grade - did not graduate</td>\n",
       "      <td>NaN</td>\n",
       "      <td>NaN</td>\n",
       "      <td>married</td>\n",
       "      <td>5000-7500</td>\n",
       "      <td>now</td>\n",
       "      <td>still smokes</td>\n",
       "      <td>1-4 per day</td>\n",
       "    </tr>\n",
       "    <tr>\n",
       "      <th>3</th>\n",
       "      <td>61</td>\n",
       "      <td>single fetus</td>\n",
       "      <td>live birth</td>\n",
       "      <td>1965-02-12</td>\n",
       "      <td>NaN</td>\n",
       "      <td>male</td>\n",
       "      <td>123</td>\n",
       "      <td>2</td>\n",
       "      <td>white</td>\n",
       "      <td>36.0</td>\n",
       "      <td>College graduate</td>\n",
       "      <td>69.0</td>\n",
       "      <td>190.0</td>\n",
       "      <td>white</td>\n",
       "      <td>43.0</td>\n",
       "      <td>HS+some college</td>\n",
       "      <td>68.0</td>\n",
       "      <td>197.0</td>\n",
       "      <td>married</td>\n",
       "      <td>20000-22500</td>\n",
       "      <td>once did, not now</td>\n",
       "      <td>2 to 3 years ago</td>\n",
       "      <td>20-29 per day</td>\n",
       "    </tr>\n",
       "    <tr>\n",
       "      <th>4</th>\n",
       "      <td>72</td>\n",
       "      <td>single fetus</td>\n",
       "      <td>live birth</td>\n",
       "      <td>1964-11-25</td>\n",
       "      <td>282.0</td>\n",
       "      <td>male</td>\n",
       "      <td>108</td>\n",
       "      <td>1</td>\n",
       "      <td>white</td>\n",
       "      <td>23.0</td>\n",
       "      <td>College graduate</td>\n",
       "      <td>67.0</td>\n",
       "      <td>125.0</td>\n",
       "      <td>white</td>\n",
       "      <td>24.0</td>\n",
       "      <td>College graduate</td>\n",
       "      <td>NaN</td>\n",
       "      <td>NaN</td>\n",
       "      <td>married</td>\n",
       "      <td>2500-5000</td>\n",
       "      <td>now</td>\n",
       "      <td>still smokes</td>\n",
       "      <td>20-29 per day</td>\n",
       "    </tr>\n",
       "  </tbody>\n",
       "</table>\n",
       "</div>"
      ],
      "text/plain": [
       "   id      pluralty     outcome        date  gestation   sex   wt  parity  \\\n",
       "0  15  single fetus  live birth  1964-11-11      284.0  male  120       1   \n",
       "1  20  single fetus  live birth  1965-02-07      282.0  male  113       2   \n",
       "2  58  single fetus  live birth  1965-04-25      279.0  male  128       1   \n",
       "3  61  single fetus  live birth  1965-02-12        NaN  male  123       2   \n",
       "4  72  single fetus  live birth  1964-11-25      282.0  male  108       1   \n",
       "\n",
       "    race   age                               ed    ht   wt.1  drace  dage  \\\n",
       "0  asian  27.0                 College graduate  62.0  100.0  asian  31.0   \n",
       "1  white  33.0                 College graduate  64.0  135.0  white  38.0   \n",
       "2  white  28.0  HS graduate--no other schooling  64.0  115.0  white  32.0   \n",
       "3  white  36.0                 College graduate  69.0  190.0  white  43.0   \n",
       "4  white  23.0                 College graduate  67.0  125.0  white  24.0   \n",
       "\n",
       "                                  ded   dht    dwt  marital          inc  \\\n",
       "0                    College graduate  65.0  110.0  married    2500-5000   \n",
       "1                    College graduate  70.0  148.0  married  10000-12500   \n",
       "2  8th -12th grade - did not graduate   NaN    NaN  married    5000-7500   \n",
       "3                     HS+some college  68.0  197.0  married  20000-22500   \n",
       "4                    College graduate   NaN    NaN  married    2500-5000   \n",
       "\n",
       "               smoke              time         number  \n",
       "0              never      never smoked          never  \n",
       "1              never      never smoked          never  \n",
       "2                now      still smokes    1-4 per day  \n",
       "3  once did, not now  2 to 3 years ago  20-29 per day  \n",
       "4                now      still smokes  20-29 per day  "
      ]
     },
     "execution_count": 3,
     "metadata": {},
     "output_type": "execute_result"
    }
   ],
   "source": [
    "# Read data\n",
    "df = pd.read_csv('../data/gestation_df.csv')\n",
    "# Drop duplicate column\n",
    "df.drop(['Unnamed: 0'], axis=1, inplace=True)\n",
    "# Display first 5 rows\n",
    "df.head()"
   ]
  },
  {
   "attachments": {},
   "cell_type": "markdown",
   "metadata": {},
   "source": [
    "The first task at hand is to use the bootstrap to generate and interpret a 95% confidence interval for the median age of mothers.\n",
    "\n",
    "Let's begin by visualizing the sample distribution and computing the relevant sample statistic (median)."
   ]
  },
  {
   "cell_type": "code",
   "execution_count": 4,
   "metadata": {},
   "outputs": [
    {
     "data": {
      "image/png": "[encoded data removed]",
      "text/plain": [
       "<Figure size 640x480 with 1 Axes>"
      ]
     },
     "metadata": {},
     "output_type": "display_data"
    }
   ],
   "source": [
    "# Plot histogram\n",
    "sns.histplot(df['age'])\n",
    "# Compute median\n",
    "plt.title(f'Median age: {df[\"age\"].median()}')\n",
    "# Display figure\n",
    "plt.show()"
   ]
  },
  {
   "attachments": {},
   "cell_type": "markdown",
   "metadata": {},
   "source": [
    "As we can see, the data are normal with a median of 26. \n",
    "\n",
    "Next, generate 9999 bootstrapped samples via sampling with replacement, and compute a 95% CI for the median age. "
   ]
  },
  {
   "cell_type": "code",
   "execution_count": 6,
   "metadata": {},
   "outputs": [
    {
     "data": {
      "text/plain": [
       "ConfidenceInterval(low=26.0, high=27.0)"
      ]
     },
     "execution_count": 6,
     "metadata": {},
     "output_type": "execute_result"
    }
   ],
   "source": [
    "# Compute 95% bootstrapped CI for median\n",
    "median_CI = bootstrap((df[df['age'].notnull()]['age'].to_list(),), \n",
    "                      np.median, \n",
    "                      confidence_level=0.95,\n",
    "                      random_state=11, \n",
    "                      method='percentile')\n",
    "# Display results\n",
    "median_CI.confidence_interval"
   ]
  },
  {
   "attachments": {},
   "cell_type": "markdown",
   "metadata": {},
   "source": [
    "This result implies that we are 95% confident that the true sample median lies between 26 and 27 (years old).\n",
    "\n",
    "Moving onto the second task at hand: produce a contingency table of smoking vs race. We first perform a normalized value count on both columns, to get a better understanding of the data."
   ]
  },
  {
   "cell_type": "code",
   "execution_count": 20,
   "metadata": {},
   "outputs": [
    {
     "data": {
      "text/plain": [
       "white    71.14%\n",
       "black    19.95%\n",
       "asian     3.60%\n",
       "mex       3.27%\n",
       "mixed     2.04%\n",
       "Name: race, dtype: object"
      ]
     },
     "execution_count": 20,
     "metadata": {},
     "output_type": "execute_result"
    }
   ],
   "source": [
    "# Perform normalized value count on race\n",
    "df['race'].value_counts(normalize=True).apply(lambda x: f'{x * 100:.2f}%')"
   ]
  },
  {
   "cell_type": "code",
   "execution_count": 21,
   "metadata": {},
   "outputs": [
    {
     "data": {
      "text/plain": [
       "never                      44.37%\n",
       "now                        39.48%\n",
       "once did, not now           8.40%\n",
       "until current pregnancy     7.75%\n",
       "Name: smoke, dtype: object"
      ]
     },
     "execution_count": 21,
     "metadata": {},
     "output_type": "execute_result"
    }
   ],
   "source": [
    "# Perform normalized value count on smoke\n",
    "df['smoke'].value_counts(normalize=True).apply(lambda x: f'{x * 100:.2f}%')"
   ]
  },
  {
   "attachments": {},
   "cell_type": "markdown",
   "metadata": {},
   "source": [
    "It'd make sense to convert the smoking column into a binary variable, where 0 and 1 represent non-smokers and smokers, respectively. We'll choose to interpret values of \"never\" and \"once did, not now\" as non-smokers, whereas \"now\" and \"until current pregnancy\" will be grouped as smokers. "
   ]
  },
  {
   "cell_type": "code",
   "execution_count": 22,
   "metadata": {},
   "outputs": [],
   "source": [
    "# Map smoke to binary variable\n",
    "df['smoke'] = df['smoke'].map({'never': 0,\n",
    "                               'once did, not now': 0,\n",
    "                               'now': 1,\n",
    "                               'until current pregnancy': 1})"
   ]
  },
  {
   "attachments": {},
   "cell_type": "markdown",
   "metadata": {},
   "source": [
    "Finally, we can create our contingency table. "
   ]
  },
  {
   "cell_type": "code",
   "execution_count": 23,
   "metadata": {},
   "outputs": [
    {
     "data": {
      "text/html": [
       "<div>\n",
       "<style scoped>\n",
       "    .dataframe tbody tr th:only-of-type {\n",
       "        vertical-align: middle;\n",
       "    }\n",
       "\n",
       "    .dataframe tbody tr th {\n",
       "        vertical-align: top;\n",
       "    }\n",
       "\n",
       "    .dataframe thead th {\n",
       "        text-align: right;\n",
       "    }\n",
       "</style>\n",
       "<table border=\"1\" class=\"dataframe\">\n",
       "  <thead>\n",
       "    <tr style=\"text-align: right;\">\n",
       "      <th>smoke</th>\n",
       "      <th>0.0</th>\n",
       "      <th>1.0</th>\n",
       "      <th>All</th>\n",
       "    </tr>\n",
       "    <tr>\n",
       "      <th>race</th>\n",
       "      <th></th>\n",
       "      <th></th>\n",
       "      <th></th>\n",
       "    </tr>\n",
       "  </thead>\n",
       "  <tbody>\n",
       "    <tr>\n",
       "      <th>asian</th>\n",
       "      <td>31</td>\n",
       "      <td>12</td>\n",
       "      <td>43</td>\n",
       "    </tr>\n",
       "    <tr>\n",
       "      <th>black</th>\n",
       "      <td>129</td>\n",
       "      <td>113</td>\n",
       "      <td>242</td>\n",
       "    </tr>\n",
       "    <tr>\n",
       "      <th>mex</th>\n",
       "      <td>26</td>\n",
       "      <td>13</td>\n",
       "      <td>39</td>\n",
       "    </tr>\n",
       "    <tr>\n",
       "      <th>mixed</th>\n",
       "      <td>16</td>\n",
       "      <td>9</td>\n",
       "      <td>25</td>\n",
       "    </tr>\n",
       "    <tr>\n",
       "      <th>white</th>\n",
       "      <td>437</td>\n",
       "      <td>427</td>\n",
       "      <td>864</td>\n",
       "    </tr>\n",
       "    <tr>\n",
       "      <th>All</th>\n",
       "      <td>639</td>\n",
       "      <td>574</td>\n",
       "      <td>1213</td>\n",
       "    </tr>\n",
       "  </tbody>\n",
       "</table>\n",
       "</div>"
      ],
      "text/plain": [
       "smoke  0.0  1.0   All\n",
       "race                 \n",
       "asian   31   12    43\n",
       "black  129  113   242\n",
       "mex     26   13    39\n",
       "mixed   16    9    25\n",
       "white  437  427   864\n",
       "All    639  574  1213"
      ]
     },
     "execution_count": 23,
     "metadata": {},
     "output_type": "execute_result"
    }
   ],
   "source": [
    "# Create contingency table with margins\n",
    "pd.crosstab(index=df['race'], columns=df['smoke'], margins=True)"
   ]
  }
 ],
 "metadata": {
  "kernelspec": {
   "display_name": "Data-Projects",
   "language": "python",
   "name": "python3"
  },
  "language_info": {
   "codemirror_mode": {
    "name": "ipython",
    "version": 3
   },
   "file_extension": ".py",
   "mimetype": "text/x-python",
   "name": "python",
   "nbconvert_exporter": "python",
   "pygments_lexer": "ipython3",
   "version": "3.10.6"
  },
  "orig_nbformat": 4,
  "vscode": {
   "interpreter": {
    "hash": "a6e590103dde66fa6b8497908d01668fda2088a5bc2e035fa84d8fe852e213a6"
   }
  }
 },
 "nbformat": 4,
 "nbformat_minor": 2
}
